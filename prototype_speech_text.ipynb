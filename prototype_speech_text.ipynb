{
  "nbformat": 4,
  "nbformat_minor": 0,
  "metadata": {
    "colab": {
      "provenance": [],
      "gpuType": "T4"
    },
    "kernelspec": {
      "name": "python3",
      "display_name": "Python 3"
    },
    "accelerator": "GPU"
  },
  "cells": [
    {
      "cell_type": "code",
      "metadata": {
        "id": "JPHnyUBviH0c"
      },
      "source": [
        "! pip install -q transformers"
      ],
      "execution_count": null,
      "outputs": []
    },
    {
      "cell_type": "code",
      "metadata": {
        "id": "b1dL-TWaiL2_"
      },
      "source": [
        "import librosa\n",
        "import torch\n",
        "from transformers import Wav2Vec2ForCTC, Wav2Vec2Tokenizer"
      ],
      "execution_count": null,
      "outputs": []
    },
    {
      "cell_type": "code",
      "metadata": {
        "id": "_7_kYLbkiTBF",
        "outputId": "07120748-e1a2-4269-a6d2-78647faed48a",
        "colab": {
          "base_uri": "https://localhost:8080/"
        }
      },
      "source": [
        "tokenizer = Wav2Vec2Tokenizer.from_pretrained(\"facebook/wav2vec2-base-960h\")\n",
        "model = Wav2Vec2ForCTC.from_pretrained(\"facebook/wav2vec2-base-960h\")"
      ],
      "execution_count": null,
      "outputs": [
        {
          "output_type": "stream",
          "name": "stderr",
          "text": [
            "The tokenizer class you load from this checkpoint is not the same type as the class this function is called from. It may result in unexpected tokenization. \n",
            "The tokenizer class you load from this checkpoint is 'Wav2Vec2CTCTokenizer'. \n",
            "The class this function is called from is 'Wav2Vec2Tokenizer'.\n",
            "Some weights of Wav2Vec2ForCTC were not initialized from the model checkpoint at facebook/wav2vec2-base-960h and are newly initialized: ['wav2vec2.masked_spec_embed']\n",
            "You should probably TRAIN this model on a down-stream task to be able to use it for predictions and inference.\n"
          ]
        }
      ]
    },
    {
      "cell_type": "code",
      "source": [
        "from google.colab import drive\n",
        "drive.mount('/content/drive')"
      ],
      "metadata": {
        "id": "Ug3Bx07RWSa9",
        "outputId": "c5c22920-49a5-4adf-ef91-32ae9c4adf60",
        "colab": {
          "base_uri": "https://localhost:8080/"
        }
      },
      "execution_count": null,
      "outputs": [
        {
          "output_type": "stream",
          "name": "stdout",
          "text": [
            "Drive already mounted at /content/drive; to attempt to forcibly remount, call drive.mount(\"/content/drive\", force_remount=True).\n"
          ]
        }
      ]
    },
    {
      "cell_type": "code",
      "metadata": {
        "id": "aZHVYnywjEu0"
      },
      "source": [
        "speech, rate = librosa.load(\"/content/drive/MyDrive/test/SptT/13 Aug, 4.59 pm.wav\",sr=16000)"
      ],
      "execution_count": null,
      "outputs": []
    },
    {
      "cell_type": "code",
      "metadata": {
        "id": "b_AgY6HrjGs2"
      },
      "source": [
        "import IPython.display as display\n",
        "display.Audio(\"/content/drive/MyDrive/test/SptT/13 Aug, 4.59 pm.wav\", autoplay=True)"
      ],
      "execution_count": null,
      "outputs": []
    },
    {
      "cell_type": "code",
      "metadata": {
        "id": "EKKsO6TsjToR"
      },
      "source": [
        "input_values = tokenizer(speech, return_tensors = 'pt').input_values"
      ],
      "execution_count": null,
      "outputs": []
    },
    {
      "cell_type": "code",
      "metadata": {
        "colab": {
          "base_uri": "https://localhost:8080/"
        },
        "id": "Nx-_Kv8mrreF",
        "outputId": "e3a52cf7-482e-4a4e-8193-2195d5d2124a"
      },
      "source": [
        "input_values"
      ],
      "execution_count": null,
      "outputs": [
        {
          "output_type": "execute_result",
          "data": {
            "text/plain": [
              "tensor([[0.0008, 0.0009, 0.0011,  ..., 0.2811, 0.4379, 0.2081]])"
            ]
          },
          "metadata": {},
          "execution_count": 10
        }
      ]
    },
    {
      "cell_type": "code",
      "metadata": {
        "id": "hOnEeB8ikD2p"
      },
      "source": [
        "logits = model(input_values).logits"
      ],
      "execution_count": null,
      "outputs": []
    },
    {
      "cell_type": "code",
      "metadata": {
        "colab": {
          "base_uri": "https://localhost:8080/"
        },
        "id": "liLxM8KW2tFe",
        "outputId": "222029da-bfd1-4481-fc81-557a13b9faea"
      },
      "source": [
        "logits"
      ],
      "execution_count": null,
      "outputs": [
        {
          "output_type": "execute_result",
          "data": {
            "text/plain": [
              "tensor([[[ 12.1568, -24.8993, -24.6339,  ...,  -6.4209,  -6.7513,  -5.9280],\n",
              "         [ 12.4868, -25.1252, -24.8415,  ...,  -6.3934,  -6.6374,  -5.9238],\n",
              "         [ 12.5073, -25.1799, -24.8969,  ...,  -6.3933,  -6.6698,  -5.9566],\n",
              "         ...,\n",
              "         [ 12.5310, -25.0361, -24.7201,  ...,  -5.9787,  -6.6207,  -5.9889],\n",
              "         [ 12.5676, -25.1129, -24.8007,  ...,  -6.0794,  -6.6414,  -6.0250],\n",
              "         [ 12.5117, -25.0517, -24.7396,  ...,  -6.0655,  -6.5833,  -6.0000]]],\n",
              "       grad_fn=<ViewBackward0>)"
            ]
          },
          "metadata": {},
          "execution_count": 12
        }
      ]
    },
    {
      "cell_type": "code",
      "metadata": {
        "id": "741DtETtiW4N"
      },
      "source": [
        "predicted_ids = torch.argmax(logits, dim =-1)"
      ],
      "execution_count": null,
      "outputs": []
    },
    {
      "cell_type": "code",
      "metadata": {
        "id": "5XEmE0-xjVqU"
      },
      "source": [
        "transcriptions = tokenizer.decode(predicted_ids[0])\n"
      ],
      "execution_count": null,
      "outputs": []
    },
    {
      "cell_type": "code",
      "metadata": {
        "colab": {
          "base_uri": "https://localhost:8080/"
        },
        "id": "scP9E_yPrGpq",
        "outputId": "3687696c-eba6-494f-b782-ea4b25130d74"
      },
      "source": [
        "print(transcriptions)"
      ],
      "execution_count": null,
      "outputs": [
        {
          "output_type": "stream",
          "name": "stdout",
          "text": [
            "RESENT DEVELOPMENTS INNO WHETHER FORGUSTING HAVE INAVEL LONGER LY TIME FOR FOT FORGUST AND THIS CAN SIGNIFICANTLY DIDUCE FLOT REIS IN LARGE REVARBASINCE THIS CULKIT HAS BEEN DEVELOPEJOINTLY BY HE ESCAPE IN COLOVERTION WITH THE RISONAL INDICATED MALTY HAS HER RLY WON EGSYSTEM TOFORBIT WIDER EXESS TO THESE INNOVATIONS  THAT INCLUES NESTED MODELLING FRAMEWORK FOR PROBABLISTIC FORGUST AS WELL AS CONSECTICUSE OF ART OBSERVATION SETLETATA FOR MONICRAT\n"
          ]
        }
      ]
    },
    {
      "cell_type": "code",
      "metadata": {
        "id": "DCH-Rvc921vO"
      },
      "source": [],
      "execution_count": null,
      "outputs": []
    }
  ]
}